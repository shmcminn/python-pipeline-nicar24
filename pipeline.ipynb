{
  "cells": [
    {
      "cell_type": "code",
      "execution_count": 35,
      "id": "9fadc3d0",
      "metadata": {},
      "outputs": [],
      "source": [
        "import requests\n",
        "import pandas as pd"
      ]
    },
    {
      "cell_type": "markdown",
      "id": "2a884e31",
      "metadata": {},
      "source": [
        "# acquire data"
      ]
    },
    {
      "cell_type": "code",
      "execution_count": 3,
      "id": "ade74e75",
      "metadata": {},
      "outputs": [],
      "source": [
        "# note that this had to strip the last two parameters from the api url in the google doc\n",
        "# also upped the limit \n",
        "api_url = \"https://opendata.maryland.gov/api/id/crti-ybyp.json?$select=*&$order=`:id`+ASC&$limit=3000&$offset=0 \"\n",
        "response = requests.get(api_url)\n",
        "data = response.json()"
      ]
    },
    {
      "cell_type": "code",
      "execution_count": 4,
      "id": "8dce4698-d0b3-46bc-b47a-4b230e305c5b",
      "metadata": {},
      "outputs": [
        {
          "data": {
            "text/plain": [
              "[{'sno': '1',\n",
              "  'complaint': '232216',\n",
              "  'complaint_description': 'Odor Complaint',\n",
              "  'complaint_type': 'Odor',\n",
              "  'recieved_date': '2024-03-01',\n",
              "  'incident_date': '2024-03-01',\n",
              "  'county': 'Dorchester',\n",
              "  'incident_closed_date': '2024-03-01',\n",
              "  'incident_status_desc': 'Incident Closed - No further action',\n",
              "  'incident_zip': '21835'},\n",
              " {'sno': '2',\n",
              "  'complaint': '232215',\n",
              "  'complaint_description': 'Odor Complaint',\n",
              "  'complaint_type': 'Odor',\n",
              "  'recieved_date': '2024-03-01',\n",
              "  'incident_date': '2024-03-01',\n",
              "  'county': 'Dorchester',\n",
              "  'incident_closed_date': '2024-03-01',\n",
              "  'incident_status_desc': 'Incident Closed - No further action',\n",
              "  'incident_zip': '21835'}]"
            ]
          },
          "execution_count": 4,
          "metadata": {},
          "output_type": "execute_result"
        }
      ],
      "source": [
        "data[0:2]"
      ]
    },
    {
      "cell_type": "code",
      "execution_count": 5,
      "id": "da4c5ebe",
      "metadata": {},
      "outputs": [],
      "source": [
        "df = pd.DataFrame(data)"
      ]
    },
    {
      "cell_type": "code",
      "execution_count": 6,
      "id": "7f5e4b26",
      "metadata": {},
      "outputs": [
        {
          "data": {
            "text/html": [
              "<div>\n",
              "<style scoped>\n",
              "    .dataframe tbody tr th:only-of-type {\n",
              "        vertical-align: middle;\n",
              "    }\n",
              "\n",
              "    .dataframe tbody tr th {\n",
              "        vertical-align: top;\n",
              "    }\n",
              "\n",
              "    .dataframe thead th {\n",
              "        text-align: right;\n",
              "    }\n",
              "</style>\n",
              "<table border=\"1\" class=\"dataframe\">\n",
              "  <thead>\n",
              "    <tr style=\"text-align: right;\">\n",
              "      <th></th>\n",
              "      <th>sno</th>\n",
              "      <th>complaint</th>\n",
              "      <th>complaint_description</th>\n",
              "      <th>complaint_type</th>\n",
              "      <th>recieved_date</th>\n",
              "      <th>incident_date</th>\n",
              "      <th>county</th>\n",
              "      <th>incident_closed_date</th>\n",
              "      <th>incident_status_desc</th>\n",
              "      <th>incident_zip</th>\n",
              "    </tr>\n",
              "  </thead>\n",
              "  <tbody>\n",
              "    <tr>\n",
              "      <th>0</th>\n",
              "      <td>1</td>\n",
              "      <td>232216</td>\n",
              "      <td>Odor Complaint</td>\n",
              "      <td>Odor</td>\n",
              "      <td>2024-03-01</td>\n",
              "      <td>2024-03-01</td>\n",
              "      <td>Dorchester</td>\n",
              "      <td>2024-03-01</td>\n",
              "      <td>Incident Closed - No further action</td>\n",
              "      <td>21835</td>\n",
              "    </tr>\n",
              "    <tr>\n",
              "      <th>1</th>\n",
              "      <td>2</td>\n",
              "      <td>232215</td>\n",
              "      <td>Odor Complaint</td>\n",
              "      <td>Odor</td>\n",
              "      <td>2024-03-01</td>\n",
              "      <td>2024-03-01</td>\n",
              "      <td>Dorchester</td>\n",
              "      <td>2024-03-01</td>\n",
              "      <td>Incident Closed - No further action</td>\n",
              "      <td>21835</td>\n",
              "    </tr>\n",
              "    <tr>\n",
              "      <th>2</th>\n",
              "      <td>3</td>\n",
              "      <td>232214</td>\n",
              "      <td>Odor Complaint</td>\n",
              "      <td>Odor</td>\n",
              "      <td>2024-02-26</td>\n",
              "      <td>2024-02-26</td>\n",
              "      <td>Dorchester</td>\n",
              "      <td>2024-02-26</td>\n",
              "      <td>Incident Closed - No further action</td>\n",
              "      <td>21835</td>\n",
              "    </tr>\n",
              "    <tr>\n",
              "      <th>3</th>\n",
              "      <td>4</td>\n",
              "      <td>232205</td>\n",
              "      <td>Neighbor's fireplace is producing large amount...</td>\n",
              "      <td>Air, Smoke</td>\n",
              "      <td>2024-02-29</td>\n",
              "      <td>2024-02-29</td>\n",
              "      <td>Carroll</td>\n",
              "      <td>NaN</td>\n",
              "      <td>Referred to Outside Agency</td>\n",
              "      <td>NaN</td>\n",
              "    </tr>\n",
              "    <tr>\n",
              "      <th>4</th>\n",
              "      <td>5</td>\n",
              "      <td>232204</td>\n",
              "      <td>Concern of loud boom noise in the Cheverly area</td>\n",
              "      <td>Other</td>\n",
              "      <td>2024-02-28</td>\n",
              "      <td>2024-02-28</td>\n",
              "      <td>Prince George's</td>\n",
              "      <td>2024-03-01</td>\n",
              "      <td>Incident Closed-Managed</td>\n",
              "      <td>NaN</td>\n",
              "    </tr>\n",
              "    <tr>\n",
              "      <th>...</th>\n",
              "      <td>...</td>\n",
              "      <td>...</td>\n",
              "      <td>...</td>\n",
              "      <td>...</td>\n",
              "      <td>...</td>\n",
              "      <td>...</td>\n",
              "      <td>...</td>\n",
              "      <td>...</td>\n",
              "      <td>...</td>\n",
              "      <td>...</td>\n",
              "    </tr>\n",
              "    <tr>\n",
              "      <th>1502</th>\n",
              "      <td>1503</td>\n",
              "      <td>8058</td>\n",
              "      <td>Boat company sandblasting boats and blowing wh...</td>\n",
              "      <td>Fugitive Dust/Particulate Matter</td>\n",
              "      <td>2021-01-11</td>\n",
              "      <td>2021-01-11</td>\n",
              "      <td>Queen Anne's</td>\n",
              "      <td>2022-03-08</td>\n",
              "      <td>Incident Closed - No further action</td>\n",
              "      <td>NaN</td>\n",
              "    </tr>\n",
              "    <tr>\n",
              "      <th>1503</th>\n",
              "      <td>1504</td>\n",
              "      <td>8057</td>\n",
              "      <td>Smoke and ash from neighbor's open burning in ...</td>\n",
              "      <td>Air</td>\n",
              "      <td>2021-01-07</td>\n",
              "      <td>2021-01-07</td>\n",
              "      <td>Anne Arundel</td>\n",
              "      <td>2021-01-07</td>\n",
              "      <td>Incident Closed-No Violation Observed</td>\n",
              "      <td>20751</td>\n",
              "    </tr>\n",
              "    <tr>\n",
              "      <th>1504</th>\n",
              "      <td>1505</td>\n",
              "      <td>8056</td>\n",
              "      <td>Smoke from neighbor's wood burning stove.</td>\n",
              "      <td>Air</td>\n",
              "      <td>2021-01-07</td>\n",
              "      <td>2021-01-04</td>\n",
              "      <td>Charles</td>\n",
              "      <td>NaN</td>\n",
              "      <td>Under Investigation</td>\n",
              "      <td>NaN</td>\n",
              "    </tr>\n",
              "    <tr>\n",
              "      <th>1505</th>\n",
              "      <td>1506</td>\n",
              "      <td>8051</td>\n",
              "      <td>Concern of materials being burned in fireplace...</td>\n",
              "      <td>Air</td>\n",
              "      <td>2021-01-04</td>\n",
              "      <td>2020-12-28</td>\n",
              "      <td>Frederick</td>\n",
              "      <td>2021-01-15</td>\n",
              "      <td>Incident Closed-No Violation Observed</td>\n",
              "      <td>21770</td>\n",
              "    </tr>\n",
              "    <tr>\n",
              "      <th>1506</th>\n",
              "      <td>1507</td>\n",
              "      <td>8019</td>\n",
              "      <td>Spice odors coming from McCormicks</td>\n",
              "      <td>Odor</td>\n",
              "      <td>2021-01-09</td>\n",
              "      <td>2020-12-10</td>\n",
              "      <td>Baltimore</td>\n",
              "      <td>2020-12-11</td>\n",
              "      <td>Incident Closed - No further action</td>\n",
              "      <td>NaN</td>\n",
              "    </tr>\n",
              "  </tbody>\n",
              "</table>\n",
              "<p>1507 rows × 10 columns</p>\n",
              "</div>"
            ],
            "text/plain": [
              "       sno complaint                              complaint_description  \\\n",
              "0        1    232216                                     Odor Complaint   \n",
              "1        2    232215                                     Odor Complaint   \n",
              "2        3    232214                                     Odor Complaint   \n",
              "3        4    232205  Neighbor's fireplace is producing large amount...   \n",
              "4        5    232204    Concern of loud boom noise in the Cheverly area   \n",
              "...    ...       ...                                                ...   \n",
              "1502  1503      8058  Boat company sandblasting boats and blowing wh...   \n",
              "1503  1504      8057  Smoke and ash from neighbor's open burning in ...   \n",
              "1504  1505      8056          Smoke from neighbor's wood burning stove.   \n",
              "1505  1506      8051  Concern of materials being burned in fireplace...   \n",
              "1506  1507      8019                 Spice odors coming from McCormicks   \n",
              "\n",
              "                        complaint_type recieved_date incident_date  \\\n",
              "0                                 Odor    2024-03-01    2024-03-01   \n",
              "1                                 Odor    2024-03-01    2024-03-01   \n",
              "2                                 Odor    2024-02-26    2024-02-26   \n",
              "3                           Air, Smoke    2024-02-29    2024-02-29   \n",
              "4                                Other    2024-02-28    2024-02-28   \n",
              "...                                ...           ...           ...   \n",
              "1502  Fugitive Dust/Particulate Matter    2021-01-11    2021-01-11   \n",
              "1503                               Air    2021-01-07    2021-01-07   \n",
              "1504                               Air    2021-01-07    2021-01-04   \n",
              "1505                               Air    2021-01-04    2020-12-28   \n",
              "1506                              Odor    2021-01-09    2020-12-10   \n",
              "\n",
              "               county incident_closed_date  \\\n",
              "0          Dorchester           2024-03-01   \n",
              "1          Dorchester           2024-03-01   \n",
              "2          Dorchester           2024-02-26   \n",
              "3             Carroll                  NaN   \n",
              "4     Prince George's           2024-03-01   \n",
              "...               ...                  ...   \n",
              "1502     Queen Anne's           2022-03-08   \n",
              "1503     Anne Arundel           2021-01-07   \n",
              "1504          Charles                  NaN   \n",
              "1505        Frederick           2021-01-15   \n",
              "1506        Baltimore           2020-12-11   \n",
              "\n",
              "                       incident_status_desc incident_zip  \n",
              "0       Incident Closed - No further action        21835  \n",
              "1       Incident Closed - No further action        21835  \n",
              "2       Incident Closed - No further action        21835  \n",
              "3                Referred to Outside Agency          NaN  \n",
              "4                   Incident Closed-Managed          NaN  \n",
              "...                                     ...          ...  \n",
              "1502    Incident Closed - No further action          NaN  \n",
              "1503  Incident Closed-No Violation Observed        20751  \n",
              "1504                    Under Investigation          NaN  \n",
              "1505  Incident Closed-No Violation Observed        21770  \n",
              "1506    Incident Closed - No further action          NaN  \n",
              "\n",
              "[1507 rows x 10 columns]"
            ]
          },
          "execution_count": 6,
          "metadata": {},
          "output_type": "execute_result"
        }
      ],
      "source": [
        "df"
      ]
    },
    {
      "cell_type": "markdown",
      "id": "d8cfe4bd",
      "metadata": {},
      "source": [
       "# clean data"
      ]
    },
    {
      "cell_type": "code",
      "execution_count": 40,
      "id": "11e1b914-de6e-4969-b20d-74c7f43d6387",
      "metadata": {},
      "outputs": [],
      "source": [
        "# Before we do anything else, let's create a backup dataframe that we'll never manipulate.\n",
        "backup_df = df.copy()"
      ]
    },
    {
      "cell_type": "code",
      "execution_count": 41,
      "id": "79eb82d2-4bbb-41f0-8722-f779e89cd26d",
      "metadata": {},
      "outputs": [],
      "source": [
        "# Let's look at the data types for each column.\n",
        "# df.dtypes\n",
        "\n",
        "# That's a lot of \"Objects\" (meaning strings)! Let's convert the 'received date' to actual dates.\n",
        "df['recieved_date'] = pd.to_datetime(df['recieved_date'])\n",
        "\n",
        "# While we're at it, how about we do the same for the two other dates?\n",
        "df['incident_date'] = pd.to_datetime(df['incident_date'])\n",
        "df['incident_closed_date'] = pd.to_datetime(df['incident_closed_date'])"
      ]
    },
    {
      "cell_type": "code",
      "execution_count": 42,
      "id": "e0544297",
      "metadata": {},
      "outputs": [],
      "source": [
        "# # There are some `NaN` values in the county and ZIP code columns.\n",
        "# # Let's toss them both out from the main dataframe. First, we'll see how many rows are missing one value or the other.\n",
        "# df[\"county\"].isna().sum()\n",
        "# df[\"incident_zip\"].isna().sum()\n",
        "\n",
        "\n",
        "# # OK, so maybe we don't want to get rid of null ZIP codes. This is why we check!\n",
        "\n",
        "# # We _can_ remove invalid county names, though.\n",
        "# # We know we have just 12 NAs, but what about others? Let's look at all unique county values first.\n",
        "# df[\"county\"].unique()\n",
        "\n",
        "\n",
        "# It looks like there are three more we should screen out: \"Not Yet Determined\", \"Outside of Maryland\" and \"Statewide.\"\n",
        "# do a new dataframe with only the values we expect.\n",
        "df = df[~df['county'].isnull()]\n",
        "df = df[~df['county'].isin([\"Not Yet Determined\", \"Outside of Maryland\", \"Statewide\"])]"
      ]
    },
    {
      "cell_type": "code",
      "execution_count": 43,
      "id": "26ca11f0-9655-4359-a6f7-84056ed86d50",
      "metadata": {},
      "outputs": [],
      "source": [
        "# # We'll create other dataframes with just those values — and export them to CSV files so that we have the option of looking through those one by one at some point.\n",
        "# null_county_rows = backup_df[backup_df['county'].isnull()]\n",
        "# wrong_county_rows = backup_df[backup_df['county'].isin([\"Not Yet Determined\", \"Outside of Maryland\", \"Statewide\"])]\n",
        "\n",
        "# Add them together and then export.\n",
        "all_excluded_rows = pd.concat([null_county_rows, wrong_county_rows])\n",
        "\n",
        "all_excluded_rows.to_csv(\"exported_data/excluded_counties.csv\")"
      ]
    },
    {
      "cell_type": "markdown",
      "id": "64305f4d",
      "metadata": {},
      "source": [
        "# analyze data"
      ]
    },
    {
      "cell_type": "code",
      "execution_count": 56,
      "id": "e234a8a3-bcb7-4a56-af74-81f69aec3951",
      "metadata": {},
      "outputs": [],
      "source": [
        "# For the summaries we're running, we'll limit that to just complaints received in the last year?\n",
        "today = pd.to_datetime(\"now\")\n",
        "one_year_ago = today - pd.Timedelta(366, \"day\")\n",
        "\n",
        "last_year_df = df[df[\"recieved_date\"].dt.day > one_year_ago.day].copy()\n",
        "\n",
        "# last_year_df[\"county\"].value_counts()"
      ]
    },
    {
      "cell_type": "code",
      "execution_count": 57,
      "id": "9b60f03a",
      "metadata": {},
      "outputs": [
        {
          "data": {
            "text/plain": [
              "complaint_type\n",
              "Odor                                     77\n",
              "Air                                      56\n",
              "Other                                    39\n",
              "Fugitive Dust/Particulate Matter         19\n",
              "Fumes                                     8\n",
              "Smoke                                     8\n",
              "Open Burning                              6\n",
              "Air, Fumes, Odor                          6\n",
              "Air, Odor                                 3\n",
              "Air, Fugitive Dust/Particulate Matter     2\n",
              "Odor, Smoke                               2\n",
              "Fumes, Odor                               1\n",
              "Waste                                     1\n",
              "Fumes, Open Burning                       1\n",
              "Air, Noise Complaint                      1\n",
              "ARA AQCP non-regulated entity             1\n",
              "Suspected Operation without Permit        1\n",
              "Air, Open Burning                         1\n",
              "Open Burning, Smoke                       1\n",
              "Air, Fumes                                1\n",
              "Air, Fumes, Smoke                         1\n",
              "Air, Fumes, Odor, Smoke                   1\n",
              "Fumes, Open Burning, Smoke                1\n",
              "Air, Fumes, Other                         1\n",
              "Air Pollutant Release                     1\n",
              "Air, Odor, Smoke                          1\n",
              "Asbestos Complaint                        1\n",
              "Name: count, dtype: int64"
            ]
          },
          "execution_count": 57,
          "metadata": {},
          "output_type": "execute_result"
        }
      ],
      "source": [
        "# What are the most common types of complaint?\n",
        "# last_year_df[\"complaint_type\"]\n",
        "last_year_df[\"complaint_type\"].value_counts()"
      ]
    },
    {
      "cell_type": "code",
      "execution_count": 59,
      "id": "36960bd2-3ee8-4aec-95b0-90d3e414b0b1",
      "metadata": {},
      "outputs": [],
      "source": [
        "# Wait, though. The second line has a type of \"Air, Other\" — shouldn't that count toward both categories?\n",
        "# The data's bunched up, so we need to make the table longer.\n",
        "# (Important caveat to be thinking what each row represents — you could fall into a trap with this transformation.)\n",
        "last_year_df[\"complaint_type\"] = last_year_df[\"complaint_type\"].str.split(', ')\n",
        "complaints_by_type = last_year_df.explode(\"complaint_type\")"
      ]
    },
    {
      "cell_type": "code",
      "execution_count": 69,
      "id": "ce5fc3dc-2221-4002-858f-02d6a5b8063d",
      "metadata": {},
      "outputs": [
        {
          "data": {
            "text/plain": [
              "complaint_type\n",
              "Odor                                  91\n",
              "Air                                   74\n",
              "Other                                 40\n",
              "Fugitive Dust/Particulate Matter      21\n",
              "Fumes                                 21\n",
              "Smoke                                 15\n",
              "Open Burning                          10\n",
              "Air Pollutant Release                  1\n",
              "Suspected Operation without Permit     1\n",
              "ARA AQCP non-regulated entity          1\n",
              "Waste                                  1\n",
              "Noise Complaint                        1\n",
              "Asbestos Complaint                     1\n",
              "Name: count, dtype: int64"
            ]
          },
          "execution_count": 69,
          "metadata": {},
          "output_type": "execute_result"
        }
      ],
      "source": [
        "# Now we can see how many times each type of complaint was lodged.\n",
        "last_year_complaint_frequency = complaints_by_type[\"complaint_type\"].value_counts()\n",
        "\n",
        "last_year_complaint_frequency\n",
        "\n",
        "# We'll leave the complaints-by-type dataset there for now, but note that we _could_ export one CSV per complaint type,\n",
        "# if for example that would help reporters on different beats focus on their relevant parts of the same data."
      ]
    },
    {
      "cell_type": "code",
      "execution_count": 67,
      "id": "98c07d07-d06a-41d8-8b0f-605880eb3779",
      "metadata": {},
      "outputs": [],
      "source": [
        "# Let's go back to the \"one row = one complaint\" dataset, and look at how many complaints have come in from each county.\n",
        "last_year_by_county = last_year_df[\"county\"].value_counts()\n",
        "\n",
        "last_year_by_county"
      ]
    },
    {
      "cell_type": "markdown",
      "id": "4849e5e3",
      "metadata": {},
      "source": [
        "# export data"
      ]
    },
    {
      "cell_type": "code",
      "execution_count": 80,
      "id": "8457d137",
      "metadata": {},
      "outputs": [],
      "source": [
        "# Let's write out our main dataset as a CSV.\n",
        "df.to_csv(\n",
        "    f\"exported_data/complaints.csv\",\n",
        "    index=False,\n",
        "    columns=[\n",
        "        \"complaint\",\n",
        "        \"incident_date\",\n",
        "        \"county\",\n",
        "        \"incident_zip\",\n",
        "        \"complaint_type\",\n",
        "        \"complaint_description\",\n",
        "        \"recieved_date\",\n",
        "        \"incident_status_desc\",\n",
        "        \"incident_closed_date\",\n",
        "    ]\n",
        ")\n"
      ]
    },
    {
      "cell_type": "code",
      "execution_count": 75,
      "id": "a378c8a5-118d-4a78-b540-be9edb767d63",
      "metadata": {},
      "outputs": [],
      "source": [
        "# We've also effectively made a couple of pivot tables (reports per county and frequency of report type). Let's export them, too.\n",
        "last_year_complaint_frequency.to_csv(\"exported_data/complaint_frequency.csv\")\n",
        "last_year_by_county.to_csv(\"exported_data/county_frequency.csv\")"
      ]
    },
    {
      "cell_type": "code",
      "execution_count": null,
      "id": "c68605aa-1cb5-47fe-97fd-f8fbf870bbf7",
      "metadata": {},
      "outputs": [],
      "source": []
    }
  ],
  "metadata": {
    "kernelspec": {
      "display_name": "Python 3 (ipykernel)",
      "language": "python",
      "name": "python3"
    },
    "language_info": {
      "codemirror_mode": {
        "name": "ipython",
        "version": 3
      },
      "file_extension": ".py",
      "mimetype": "text/x-python",
      "name": "python",
      "nbconvert_exporter": "python",
      "pygments_lexer": "ipython3",
      "version": "3.12.2"
    }
  },
  "nbformat": 4,
  "nbformat_minor": 5
}
