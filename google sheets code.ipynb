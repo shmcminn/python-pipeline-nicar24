{
 "cells": [
  {
   "cell_type": "markdown",
   "id": "73a5d2bc-6fe0-49e5-87e2-0394c42bbdf6",
   "metadata": {},
   "source": [
    "# Google Sheets API authentication\n",
    "Follow the instructions in this documentation to create a service account: \n",
    "https://docs.gspread.org/en/latest/oauth2.html\n",
    "\n",
    "Make sure you: \n",
    "1. Create a Google API project\n",
    "2. Enable the Google Drive and Google Sheets APIs for your project\n",
    "3. Download the JSON credentials for the project\n",
    "4. Share the Google Sheet with the `client_email` found in the JSON file\n",
    "5. Move the JSON file into the same folder as your Python notebook. 🥷 SECURITY NOTE: This serves as your \"password\" to access Google's API. Don't share it or include it in anything that gets uploaded to GitHub or a public server.\n",
    "6. IMPORTANT: Rename the JSON file as `google_auth_secret.json` *(This is not in the documentation instructions but will make it work with our code)*"
   ]
  },
  {
   "cell_type": "markdown",
   "id": "61acd96d-c8b0-4e7c-abca-25a3da9710ae",
   "metadata": {},
   "source": [
    "# Run this to:\n",
    "1. Import libraries\n",
    "2. Set up the permissions\n",
    "3. Access a Google sheet\n",
    "4. Write data from a local CSV into a tab on the Google sheet"
   ]
  },
  {
   "cell_type": "code",
   "execution_count": 4,
   "id": "fc516987-dbbc-4465-a3e4-f65ad79e2793",
   "metadata": {},
   "outputs": [],
   "source": [
    "import gspread\n",
    "from oauth2client.service_account import ServiceAccountCredentials\n",
    "import csv\n",
    "import os"
   ]
  },
  {
   "cell_type": "code",
   "execution_count": null,
   "id": "f6bd736e-c78c-450a-b193-d421bb328d94",
   "metadata": {},
   "outputs": [],
   "source": [
    "# Define the scope and credentials\n",
    "# these can be changed depending on your google sheet name and the tabname\n",
    "sheetname = \"air complaints\" # this is the actual name of your Google Sheets workbook \n",
    "tabname = \"Sheet1\"\n",
    "file_to_write = \"exported_data/county_frequency.csv\"\n",
    "\n",
    "\n",
    "cred_file = \"google_auth_secret.json\"\n",
    "scope = ['https://spreadsheets.google.com/feeds', 'https://www.googleapis.com/auth/drive']\n"
   ]
  },
  {
   "cell_type": "code",
   "execution_count": null,
   "id": "6fac3416-d979-4ab8-b6f3-6ac177bf3047",
   "metadata": {},
   "outputs": [],
   "source": [
    "# Authorize the client (comment these out if you are deploying to Github Actions)\n",
    "credentials = ServiceAccountCredentials.from_json_keyfile_name(cred_file, scope)\n",
    "client = gspread.authorize(credentials)\n",
    "\n",
    "# Uncomment these two lines out if you're using Github Actions:\n",
    "# credentials = os.environ.get(\"SECRET_KEY\")\n",
    "# gspread.service_account_from_dict(credentials)\n",
    "\n",
    "# Open the Google Sheet\n",
    "sheet = client.open(sheetname).worksheet(tabname)  \n"
   ]
  },
  {
   "cell_type": "code",
   "execution_count": null,
   "id": "b1945803-9ef4-4409-8ef1-3c916557af2e",
   "metadata": {},
   "outputs": [],
   "source": [
    "# Read data from CSV\n",
    "data_to_write = []\n",
    "with open(file_to_write, 'r') as csvfile:  \n",
    "    csv_data = csv.reader(csvfile)\n",
    "    for row in csv_data:\n",
    "        data_to_write.append(row)\n",
    "\n",
    "# Batch writing data to Google Sheet\n",
    "sheet.update('A1', data_to_write)"
   ]
  },
  {
   "cell_type": "markdown",
   "id": "781bc6e5-8edc-4ed1-bc57-8debcc42984a",
   "metadata": {},
   "source": [
    "# To make this play nicely with GitHub actions:"
   ]
  },
  {
   "cell_type": "markdown",
   "id": "7a0212c5-d083-4196-b532-7666dca76f75",
   "metadata": {},
   "source": [
    "1. In this code above where you \"authorize the client,\" comment out the first two lines. Then uncomment out the two lines below it.\n",
    "2. Take all the code in this notebook and paste it at the end of the `pipeline.ipynb` notebook\n",
    "3. Save the contents of your Google authentication JSON file as a \"secret\" variable in your own Github **repository**, [using these instructions](https://docs.github.com/en/actions/security-guides/using-secrets-in-github-actions). The name of that secret variable should be `GOOGLE_SECRET_KEY` \n",
    "4. Uncomment the 3 \"optional\" lines in `.github/workflows/main.yaml`, beginning with `- name: Set environment variable`\n",
    "   "
   ]
  },
  {
   "cell_type": "code",
   "execution_count": null,
   "id": "c7616ae1-7c36-4282-b78e-dca332daa1c9",
   "metadata": {},
   "outputs": [],
   "source": []
  }
 ],
 "metadata": {
  "kernelspec": {
   "display_name": "Python 3 (ipykernel)",
   "language": "python",
   "name": "python3"
  },
  "language_info": {
   "codemirror_mode": {
    "name": "ipython",
    "version": 3
   },
   "file_extension": ".py",
   "mimetype": "text/x-python",
   "name": "python",
   "nbconvert_exporter": "python",
   "pygments_lexer": "ipython3",
   "version": "3.9.16"
  }
 },
 "nbformat": 4,
 "nbformat_minor": 5
}
